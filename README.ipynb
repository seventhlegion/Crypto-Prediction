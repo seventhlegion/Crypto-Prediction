{
  "cells": [
    {
      "cell_type": "markdown",
      "metadata": {},
      "source": [
        "For introduction i import the some libraries from python package and scikit-learn.\n",
        "\n",
        "pandas = scrolling on our data.    \n",
        "matplotlib = build a graph.    \n",
        "numpy = build an array from our data.    \n",
        "tqdm = make a percent line.   \n",
        "DecisionTreeClassifier = build a tree with X depth."
      ]
    },
    {
      "cell_type": "code",
      "execution_count": 1,
      "metadata": {
        "id": "E_xS6ON3X2Xy"
      },
      "outputs": [],
      "source": [
        "import pandas as pd\n",
        "import matplotlib.pyplot as plt\n",
        "import numpy as np\n",
        "from sklearn import tree\n",
        "from tqdm.notebook import tqdm\n",
        "from sklearn.tree import DecisionTreeClassifier\n",
        "from sklearn.metrics import accuracy_score"
      ]
    },
    {
      "cell_type": "markdown",
      "metadata": {},
      "source": [
        "Our target have 3 values and its a Classification machine because we have true and false values and null.\n",
        "\n",
        "Dataset type is CSV file.\n",
        "\n",
        "CSV is a simple way to build a useful Database.\n",
        "\n",
        "In our dataset we can see many columns but should pick what we need to target.\n",
        "\n",
        "Close = The candles closed with amount of price.   \n",
        "MACD = Moving Average Convergence Divergence.   \n",
        "\n",
        "MACD is an indicator and give us a score as warning for predicting.\n",
        "\n",
        "After ran the this code we have 2 array of \"Close\" and \"MACD\" valuse's."
      ]
    },
    {
      "cell_type": "code",
      "execution_count": 2,
      "metadata": {
        "id": "wwzhi0MlYSiP"
      },
      "outputs": [],
      "source": [
        "df=pd.read_csv('../crypto/src/data-ETHUSD-H1-MACD_train.csv')\n",
        "df.head()\n",
        "\n",
        "data=df.values[:,9:].astype(np.float32)\n",
        "\n",
        "target=df.values[:,2].astype(np.float32)"
      ]
    },
    {
      "cell_type": "markdown",
      "metadata": {},
      "source": [
        "Pandas helps us in here for scrolling the dataset.   \n",
        "\n",
        "For predicting we need to 2 types of detaset as train and test.   \n",
        "Train made up 70% or 80% of our data and rest of them dedicate to test.   \n",
        "\n",
        "For each values have one of -1, 0, 1.   \n",
        "our predicting have 3 object as buy, hold and sell.   \n",
        "buy = 1.   \n",
        "hold = 0.   \n",
        "sell = -1.   \n",
        "\n",
        "Every \"close\" has one candle for each hour. we give 20 hour ago and will predict the next 5 hours."
      ]
    },
    {
      "cell_type": "code",
      "execution_count": 3,
      "metadata": {
        "colab": {
          "base_uri": "https://localhost:8080/",
          "height": 49,
          "referenced_widgets": [
            "8dda7093de24483ca396adebaec8c155",
            "320477b6ec894bc7bdacb23670df4dce",
            "51469404a29f47c99103b213ec5971e7",
            "59006dcfb9b04248a78c6bc147697315",
            "4be1c3b87c8e4190afb7d82c23e610fe",
            "aefac4a043084d2986dd02dbc232031e",
            "96747fc2fe8f45bf976c04640cdd70d5",
            "7e3262e315b94c2281c4a0fb575e4b94",
            "61185dc3a74e4c6287904c4181677329",
            "cb87df2e669941a9829347ca0d452843",
            "423129694fe248b1856ad654ff0b5204"
          ]
        },
        "id": "7mfAZAXRYYAf",
        "outputId": "477ab5dc-db9b-48d5-d748-9b02fc843f8e"
      },
      "outputs": [
        {
          "data": {
            "application/vnd.jupyter.widget-view+json": {
              "model_id": "3293dc4077864c988684f47792258a5a",
              "version_major": 2,
              "version_minor": 0
            },
            "text/plain": [
              "  0%|          | 0/29974 [00:00<?, ?it/s]"
            ]
          },
          "metadata": {},
          "output_type": "display_data"
        }
      ],
      "source": [
        "supervising_time = 5\n",
        "N=np.size(data, axis=0)\n",
        "winSize=20\n",
        "features=5\n",
        "X=np.zeros((0,winSize*features))\n",
        "y_train=np.zeros((0,1))\n",
        "\n",
        "for i in tqdm(range(N-winSize-supervising_time)):\n",
        "    X=np.concatenate((X,data[i:i+winSize].flatten().reshape(1,-1)), axis=0)\n",
        "\n",
        "    if target[i+winSize+supervising_time]/target[i+winSize]>=1.01:\n",
        "        y_train=np.concatenate((y_train, np.array (+1).reshape(-1,1)), axis=0)\n",
        "\n",
        "    elif target[i+winSize+supervising_time]/target[i+winSize]<=0.99:\n",
        "        y_train=np.concatenate((y_train, np.array(-1).reshape(-1,1)), axis=0)\n",
        "\n",
        "    else:\n",
        "        y_train=np.concatenate((y_train, np.array(0).reshape(-1,1)), axis=0)"
      ]
    },
    {
      "cell_type": "markdown",
      "metadata": {},
      "source": [
        "Now our data is segmented such [1 ,1 ,-1 ,...,0 ,1 ,1].   \n",
        "Sould build a graph.   \n",
        "let's see how it works.   \n",
        "\n",
        "With matplotlib it is easy to do. there are 3 bins for -1, 0, 1 and they are built only for train data.   \n",
        "As you see. we have learned it with MACD and result is hold your currency because of 0 bins.   "
      ]
    },
    {
      "cell_type": "code",
      "execution_count": 4,
      "metadata": {
        "colab": {
          "base_uri": "https://localhost:8080/",
          "height": 265
        },
        "id": "6mQQ0sQDtf8O",
        "outputId": "f7363f1c-6e93-400e-cf5b-6f8ffd06c55a"
      },
      "outputs": [
        {
          "data": {
            "image/png": "[encoded data removed]",
            "text/plain": [
              "<Figure size 432x288 with 1 Axes>"
            ]
          },
          "metadata": {
            "needs_background": "light"
          },
          "output_type": "display_data"
        }
      ],
      "source": [
        "plt.hist(y_train, bins=3, rwidth=0.5)\n",
        "plt.xticks([-1,0,1]);"
      ]
    },
    {
      "cell_type": "markdown",
      "metadata": {},
      "source": [
        "After trained machine with \"train dataset\" now time to test our machine with \"test dataset\".   \n",
        "\n",
        "This begs a question :)   \n",
        "Why we make train and test?\n",
        " \n",
        "Because of \"Overfitting\". when overfitting happens our data is too big.      \n",
        "It is needed to segment to true and false.   \n",
        "In graph we have a line between our devisions but this line couldn't have enough accuracy.   \n",
        "Maybe our demanded data is in the wrong side of divisions.   \n",
        "Train and test helps us to increase accuracy.   "
      ]
    },
    {
      "cell_type": "code",
      "execution_count": 5,
      "metadata": {
        "colab": {
          "base_uri": "https://localhost:8080/",
          "height": 49,
          "referenced_widgets": [
            "312660f669e243c199efa945a6f5ff89",
            "f3a5296eebbb42aa94885b00edb0ee22",
            "3b6cafd6a6af4be69d3feb45c129b31c",
            "cb161a67d37242d88430412dd6366619",
            "99511ab609804d80902c96c23d74b9b8",
            "fc2ec5f60af2429a97f600723a430ce4",
            "593dc333b6c64499a1b175bc97e127f6",
            "77c29a3b8dc543c1a107de0fab94cca2",
            "e4eece86fca84195b4e66d41bd6c2242",
            "2535755695334c328a538118f36adead",
            "2337770aaadc46308837858d28fcacc8"
          ]
        },
        "id": "OLjYU852lzz8",
        "outputId": "dc1ea1d5-d9f3-471b-bc4c-09495a174a71"
      },
      "outputs": [
        {
          "data": {
            "application/vnd.jupyter.widget-view+json": {
              "model_id": "f553638f59864aeea2762a6df86aa81d",
              "version_major": 2,
              "version_minor": 0
            },
            "text/plain": [
              "  0%|          | 0/5625 [00:00<?, ?it/s]"
            ]
          },
          "metadata": {},
          "output_type": "display_data"
        }
      ],
      "source": [
        "df = pd.read_csv('../crypto/src/data-ETHUSD-H1-MACD_test.csv')\n",
        "df.head()\n",
        "data = df.values[:, 9:].astype(np.float32)\n",
        "target = df.values[:, 2].astype(np.float32)\n",
        "\n",
        "N_ts = np.size(data,axis=0)\n",
        "X_ts = np.zeros((0,winSize*features))\n",
        "y_test = np.zeros((0,1))\n",
        "\n",
        "for i in tqdm(range(N_ts-winSize-supervising_time)):\n",
        "  X_ts=np.concatenate((X_ts,data[i: i + winSize].flatten().reshape(1,-1)) , axis = 0)\n",
        "  \n",
        "  if target[i+winSize+supervising_time]/target[i+winSize] >= 1.01:\n",
        "    y_test=np.concatenate((y_test, np.array(+1).reshape(-1,1)) , axis = 0)\n",
        "\n",
        "  elif target[i+winSize+supervising_time]/target[i+winSize] <= 0.99:\n",
        "    y_test=np.concatenate((y_test, np.array(-1).reshape(-1,1)) , axis = 0)\n",
        "\n",
        "  else:\n",
        "    y_test=np.concatenate((y_test, np.array(0).reshape(-1,1)) , axis = 0)"
      ]
    },
    {
      "cell_type": "code",
      "execution_count": 6,
      "metadata": {
        "id": "JSsrohIt0_yK"
      },
      "outputs": [],
      "source": [
        "tree=DecisionTreeClassifier(max_depth=4)\n",
        "tree.fit(X , y_train[:,0])\n",
        "y_pred=tree.predict(X_ts)"
      ]
    },
    {
      "cell_type": "markdown",
      "metadata": {},
      "source": [
        "The machine is trained and now time to predict.   \n",
        "In here we have a tree with 4 layers and we fit our train data in tree.   \n",
        "Tree makes yes or no questions.   \n",
        "The fit defines a line as a representative and machine predict with test data."
      ]
    },
    {
      "cell_type": "code",
      "execution_count": 8,
      "metadata": {
        "colab": {
          "base_uri": "https://localhost:8080/"
        },
        "id": "XKUYBV6MzW5c",
        "outputId": "99d0e81f-7a99-4e46-d78c-018b0830ebba"
      },
      "outputs": [
        {
          "name": "stdout",
          "output_type": "stream",
          "text": [
            "0.424\n",
            "[ 1.  1.  1. ... -1. -1. -1.]\n"
          ]
        },
        {
          "data": {
            "image/png": "[encoded data removed]",
            "text/plain": [
              "<Figure size 432x288 with 1 Axes>"
            ]
          },
          "metadata": {
            "needs_background": "light"
          },
          "output_type": "display_data"
        }
      ],
      "source": [
        "print(accuracy_score(y_pred,y_test))\n",
        "\n",
        "plt.hist(y_pred, bins=3, rwidth=0.5)\n",
        "plt.xticks([-1,0,1]);\n",
        "print(y_pred)"
      ]
    }
  ],
  "metadata": {
    "colab": {
      "collapsed_sections": [],
      "name": "eth_trade_pred.ipynb",
      "provenance": []
    },
    "kernelspec": {
      "display_name": "Python 3",
      "name": "python3"
    },
    "language_info": {
      "codemirror_mode": {
        "name": "ipython",
        "version": 3
      },
      "file_extension": ".py",
      "mimetype": "text/x-python",
      "name": "python",
      "nbconvert_exporter": "python",
      "pygments_lexer": "ipython3",
      "version": "3.8.5"
    },
    "widgets": {
      "application/vnd.jupyter.widget-state+json": {
        "2337770aaadc46308837858d28fcacc8": {
          "model_module": "@jupyter-widgets/base",
          "model_module_version": "1.2.0",
          "model_name": "LayoutModel",
          "state": {
            "_model_module": "@jupyter-widgets/base",
            "_model_module_version": "1.2.0",
            "_model_name": "LayoutModel",
            "_view_count": null,
            "_view_module": "@jupyter-widgets/base",
            "_view_module_version": "1.2.0",
            "_view_name": "LayoutView",
            "align_content": null,
            "align_items": null,
            "align_self": null,
            "border": null,
            "bottom": null,
            "display": null,
            "flex": null,
            "flex_flow": null,
            "grid_area": null,
            "grid_auto_columns": null,
            "grid_auto_flow": null,
            "grid_auto_rows": null,
            "grid_column": null,
            "grid_gap": null,
            "grid_row": null,
            "grid_template_areas": null,
            "grid_template_columns": null,
            "grid_template_rows": null,
            "height": null,
            "justify_content": null,
            "justify_items": null,
            "left": null,
            "margin": null,
            "max_height": null,
            "max_width": null,
            "min_height": null,
            "min_width": null,
            "object_fit": null,
            "object_position": null,
            "order": null,
            "overflow": null,
            "overflow_x": null,
            "overflow_y": null,
            "padding": null,
            "right": null,
            "top": null,
            "visibility": null,
            "width": null
          }
        },
        "2535755695334c328a538118f36adead": {
          "model_module": "@jupyter-widgets/controls",
          "model_module_version": "1.5.0",
          "model_name": "DescriptionStyleModel",
          "state": {
            "_model_module": "@jupyter-widgets/controls",
            "_model_module_version": "1.5.0",
            "_model_name": "DescriptionStyleModel",
            "_view_count": null,
            "_view_module": "@jupyter-widgets/base",
            "_view_module_version": "1.2.0",
            "_view_name": "StyleView",
            "description_width": ""
          }
        },
        "312660f669e243c199efa945a6f5ff89": {
          "model_module": "@jupyter-widgets/controls",
          "model_module_version": "1.5.0",
          "model_name": "HBoxModel",
          "state": {
            "_dom_classes": [],
            "_model_module": "@jupyter-widgets/controls",
            "_model_module_version": "1.5.0",
            "_model_name": "HBoxModel",
            "_view_count": null,
            "_view_module": "@jupyter-widgets/controls",
            "_view_module_version": "1.5.0",
            "_view_name": "HBoxView",
            "box_style": "",
            "children": [
              "IPY_MODEL_3b6cafd6a6af4be69d3feb45c129b31c",
              "IPY_MODEL_cb161a67d37242d88430412dd6366619",
              "IPY_MODEL_99511ab609804d80902c96c23d74b9b8"
            ],
            "layout": "IPY_MODEL_f3a5296eebbb42aa94885b00edb0ee22"
          }
        },
        "320477b6ec894bc7bdacb23670df4dce": {
          "model_module": "@jupyter-widgets/base",
          "model_module_version": "1.2.0",
          "model_name": "LayoutModel",
          "state": {
            "_model_module": "@jupyter-widgets/base",
            "_model_module_version": "1.2.0",
            "_model_name": "LayoutModel",
            "_view_count": null,
            "_view_module": "@jupyter-widgets/base",
            "_view_module_version": "1.2.0",
            "_view_name": "LayoutView",
            "align_content": null,
            "align_items": null,
            "align_self": null,
            "border": null,
            "bottom": null,
            "display": null,
            "flex": null,
            "flex_flow": null,
            "grid_area": null,
            "grid_auto_columns": null,
            "grid_auto_flow": null,
            "grid_auto_rows": null,
            "grid_column": null,
            "grid_gap": null,
            "grid_row": null,
            "grid_template_areas": null,
            "grid_template_columns": null,
            "grid_template_rows": null,
            "height": null,
            "justify_content": null,
            "justify_items": null,
            "left": null,
            "margin": null,
            "max_height": null,
            "max_width": null,
            "min_height": null,
            "min_width": null,
            "object_fit": null,
            "object_position": null,
            "order": null,
            "overflow": null,
            "overflow_x": null,
            "overflow_y": null,
            "padding": null,
            "right": null,
            "top": null,
            "visibility": null,
            "width": null
          }
        },
        "3b6cafd6a6af4be69d3feb45c129b31c": {
          "model_module": "@jupyter-widgets/controls",
          "model_module_version": "1.5.0",
          "model_name": "HTMLModel",
          "state": {
            "_dom_classes": [],
            "_model_module": "@jupyter-widgets/controls",
            "_model_module_version": "1.5.0",
            "_model_name": "HTMLModel",
            "_view_count": null,
            "_view_module": "@jupyter-widgets/controls",
            "_view_module_version": "1.5.0",
            "_view_name": "HTMLView",
            "description": "",
            "description_tooltip": null,
            "layout": "IPY_MODEL_593dc333b6c64499a1b175bc97e127f6",
            "placeholder": "​",
            "style": "IPY_MODEL_fc2ec5f60af2429a97f600723a430ce4",
            "value": "100%"
          }
        },
        "423129694fe248b1856ad654ff0b5204": {
          "model_module": "@jupyter-widgets/base",
          "model_module_version": "1.2.0",
          "model_name": "LayoutModel",
          "state": {
            "_model_module": "@jupyter-widgets/base",
            "_model_module_version": "1.2.0",
            "_model_name": "LayoutModel",
            "_view_count": null,
            "_view_module": "@jupyter-widgets/base",
            "_view_module_version": "1.2.0",
            "_view_name": "LayoutView",
            "align_content": null,
            "align_items": null,
            "align_self": null,
            "border": null,
            "bottom": null,
            "display": null,
            "flex": null,
            "flex_flow": null,
            "grid_area": null,
            "grid_auto_columns": null,
            "grid_auto_flow": null,
            "grid_auto_rows": null,
            "grid_column": null,
            "grid_gap": null,
            "grid_row": null,
            "grid_template_areas": null,
            "grid_template_columns": null,
            "grid_template_rows": null,
            "height": null,
            "justify_content": null,
            "justify_items": null,
            "left": null,
            "margin": null,
            "max_height": null,
            "max_width": null,
            "min_height": null,
            "min_width": null,
            "object_fit": null,
            "object_position": null,
            "order": null,
            "overflow": null,
            "overflow_x": null,
            "overflow_y": null,
            "padding": null,
            "right": null,
            "top": null,
            "visibility": null,
            "width": null
          }
        },
        "4be1c3b87c8e4190afb7d82c23e610fe": {
          "model_module": "@jupyter-widgets/controls",
          "model_module_version": "1.5.0",
          "model_name": "HTMLModel",
          "state": {
            "_dom_classes": [],
            "_model_module": "@jupyter-widgets/controls",
            "_model_module_version": "1.5.0",
            "_model_name": "HTMLModel",
            "_view_count": null,
            "_view_module": "@jupyter-widgets/controls",
            "_view_module_version": "1.5.0",
            "_view_name": "HTMLView",
            "description": "",
            "description_tooltip": null,
            "layout": "IPY_MODEL_423129694fe248b1856ad654ff0b5204",
            "placeholder": "​",
            "style": "IPY_MODEL_cb87df2e669941a9829347ca0d452843",
            "value": " 29974/29974 [01:29&lt;00:00, 152.07it/s]"
          }
        },
        "51469404a29f47c99103b213ec5971e7": {
          "model_module": "@jupyter-widgets/controls",
          "model_module_version": "1.5.0",
          "model_name": "HTMLModel",
          "state": {
            "_dom_classes": [],
            "_model_module": "@jupyter-widgets/controls",
            "_model_module_version": "1.5.0",
            "_model_name": "HTMLModel",
            "_view_count": null,
            "_view_module": "@jupyter-widgets/controls",
            "_view_module_version": "1.5.0",
            "_view_name": "HTMLView",
            "description": "",
            "description_tooltip": null,
            "layout": "IPY_MODEL_96747fc2fe8f45bf976c04640cdd70d5",
            "placeholder": "​",
            "style": "IPY_MODEL_aefac4a043084d2986dd02dbc232031e",
            "value": "100%"
          }
        },
        "59006dcfb9b04248a78c6bc147697315": {
          "model_module": "@jupyter-widgets/controls",
          "model_module_version": "1.5.0",
          "model_name": "FloatProgressModel",
          "state": {
            "_dom_classes": [],
            "_model_module": "@jupyter-widgets/controls",
            "_model_module_version": "1.5.0",
            "_model_name": "FloatProgressModel",
            "_view_count": null,
            "_view_module": "@jupyter-widgets/controls",
            "_view_module_version": "1.5.0",
            "_view_name": "ProgressView",
            "bar_style": "success",
            "description": "",
            "description_tooltip": null,
            "layout": "IPY_MODEL_61185dc3a74e4c6287904c4181677329",
            "max": 29974,
            "min": 0,
            "orientation": "horizontal",
            "style": "IPY_MODEL_7e3262e315b94c2281c4a0fb575e4b94",
            "value": 29974
          }
        },
        "593dc333b6c64499a1b175bc97e127f6": {
          "model_module": "@jupyter-widgets/base",
          "model_module_version": "1.2.0",
          "model_name": "LayoutModel",
          "state": {
            "_model_module": "@jupyter-widgets/base",
            "_model_module_version": "1.2.0",
            "_model_name": "LayoutModel",
            "_view_count": null,
            "_view_module": "@jupyter-widgets/base",
            "_view_module_version": "1.2.0",
            "_view_name": "LayoutView",
            "align_content": null,
            "align_items": null,
            "align_self": null,
            "border": null,
            "bottom": null,
            "display": null,
            "flex": null,
            "flex_flow": null,
            "grid_area": null,
            "grid_auto_columns": null,
            "grid_auto_flow": null,
            "grid_auto_rows": null,
            "grid_column": null,
            "grid_gap": null,
            "grid_row": null,
            "grid_template_areas": null,
            "grid_template_columns": null,
            "grid_template_rows": null,
            "height": null,
            "justify_content": null,
            "justify_items": null,
            "left": null,
            "margin": null,
            "max_height": null,
            "max_width": null,
            "min_height": null,
            "min_width": null,
            "object_fit": null,
            "object_position": null,
            "order": null,
            "overflow": null,
            "overflow_x": null,
            "overflow_y": null,
            "padding": null,
            "right": null,
            "top": null,
            "visibility": null,
            "width": null
          }
        },
        "61185dc3a74e4c6287904c4181677329": {
          "model_module": "@jupyter-widgets/base",
          "model_module_version": "1.2.0",
          "model_name": "LayoutModel",
          "state": {
            "_model_module": "@jupyter-widgets/base",
            "_model_module_version": "1.2.0",
            "_model_name": "LayoutModel",
            "_view_count": null,
            "_view_module": "@jupyter-widgets/base",
            "_view_module_version": "1.2.0",
            "_view_name": "LayoutView",
            "align_content": null,
            "align_items": null,
            "align_self": null,
            "border": null,
            "bottom": null,
            "display": null,
            "flex": null,
            "flex_flow": null,
            "grid_area": null,
            "grid_auto_columns": null,
            "grid_auto_flow": null,
            "grid_auto_rows": null,
            "grid_column": null,
            "grid_gap": null,
            "grid_row": null,
            "grid_template_areas": null,
            "grid_template_columns": null,
            "grid_template_rows": null,
            "height": null,
            "justify_content": null,
            "justify_items": null,
            "left": null,
            "margin": null,
            "max_height": null,
            "max_width": null,
            "min_height": null,
            "min_width": null,
            "object_fit": null,
            "object_position": null,
            "order": null,
            "overflow": null,
            "overflow_x": null,
            "overflow_y": null,
            "padding": null,
            "right": null,
            "top": null,
            "visibility": null,
            "width": null
          }
        },
        "77c29a3b8dc543c1a107de0fab94cca2": {
          "model_module": "@jupyter-widgets/controls",
          "model_module_version": "1.5.0",
          "model_name": "ProgressStyleModel",
          "state": {
            "_model_module": "@jupyter-widgets/controls",
            "_model_module_version": "1.5.0",
            "_model_name": "ProgressStyleModel",
            "_view_count": null,
            "_view_module": "@jupyter-widgets/base",
            "_view_module_version": "1.2.0",
            "_view_name": "StyleView",
            "bar_color": null,
            "description_width": ""
          }
        },
        "7e3262e315b94c2281c4a0fb575e4b94": {
          "model_module": "@jupyter-widgets/controls",
          "model_module_version": "1.5.0",
          "model_name": "ProgressStyleModel",
          "state": {
            "_model_module": "@jupyter-widgets/controls",
            "_model_module_version": "1.5.0",
            "_model_name": "ProgressStyleModel",
            "_view_count": null,
            "_view_module": "@jupyter-widgets/base",
            "_view_module_version": "1.2.0",
            "_view_name": "StyleView",
            "bar_color": null,
            "description_width": ""
          }
        },
        "8dda7093de24483ca396adebaec8c155": {
          "model_module": "@jupyter-widgets/controls",
          "model_module_version": "1.5.0",
          "model_name": "HBoxModel",
          "state": {
            "_dom_classes": [],
            "_model_module": "@jupyter-widgets/controls",
            "_model_module_version": "1.5.0",
            "_model_name": "HBoxModel",
            "_view_count": null,
            "_view_module": "@jupyter-widgets/controls",
            "_view_module_version": "1.5.0",
            "_view_name": "HBoxView",
            "box_style": "",
            "children": [
              "IPY_MODEL_51469404a29f47c99103b213ec5971e7",
              "IPY_MODEL_59006dcfb9b04248a78c6bc147697315",
              "IPY_MODEL_4be1c3b87c8e4190afb7d82c23e610fe"
            ],
            "layout": "IPY_MODEL_320477b6ec894bc7bdacb23670df4dce"
          }
        },
        "96747fc2fe8f45bf976c04640cdd70d5": {
          "model_module": "@jupyter-widgets/base",
          "model_module_version": "1.2.0",
          "model_name": "LayoutModel",
          "state": {
            "_model_module": "@jupyter-widgets/base",
            "_model_module_version": "1.2.0",
            "_model_name": "LayoutModel",
            "_view_count": null,
            "_view_module": "@jupyter-widgets/base",
            "_view_module_version": "1.2.0",
            "_view_name": "LayoutView",
            "align_content": null,
            "align_items": null,
            "align_self": null,
            "border": null,
            "bottom": null,
            "display": null,
            "flex": null,
            "flex_flow": null,
            "grid_area": null,
            "grid_auto_columns": null,
            "grid_auto_flow": null,
            "grid_auto_rows": null,
            "grid_column": null,
            "grid_gap": null,
            "grid_row": null,
            "grid_template_areas": null,
            "grid_template_columns": null,
            "grid_template_rows": null,
            "height": null,
            "justify_content": null,
            "justify_items": null,
            "left": null,
            "margin": null,
            "max_height": null,
            "max_width": null,
            "min_height": null,
            "min_width": null,
            "object_fit": null,
            "object_position": null,
            "order": null,
            "overflow": null,
            "overflow_x": null,
            "overflow_y": null,
            "padding": null,
            "right": null,
            "top": null,
            "visibility": null,
            "width": null
          }
        },
        "99511ab609804d80902c96c23d74b9b8": {
          "model_module": "@jupyter-widgets/controls",
          "model_module_version": "1.5.0",
          "model_name": "HTMLModel",
          "state": {
            "_dom_classes": [],
            "_model_module": "@jupyter-widgets/controls",
            "_model_module_version": "1.5.0",
            "_model_name": "HTMLModel",
            "_view_count": null,
            "_view_module": "@jupyter-widgets/controls",
            "_view_module_version": "1.5.0",
            "_view_name": "HTMLView",
            "description": "",
            "description_tooltip": null,
            "layout": "IPY_MODEL_2337770aaadc46308837858d28fcacc8",
            "placeholder": "​",
            "style": "IPY_MODEL_2535755695334c328a538118f36adead",
            "value": " 5625/5625 [00:02&lt;00:00, 1348.36it/s]"
          }
        },
        "aefac4a043084d2986dd02dbc232031e": {
          "model_module": "@jupyter-widgets/controls",
          "model_module_version": "1.5.0",
          "model_name": "DescriptionStyleModel",
          "state": {
            "_model_module": "@jupyter-widgets/controls",
            "_model_module_version": "1.5.0",
            "_model_name": "DescriptionStyleModel",
            "_view_count": null,
            "_view_module": "@jupyter-widgets/base",
            "_view_module_version": "1.2.0",
            "_view_name": "StyleView",
            "description_width": ""
          }
        },
        "cb161a67d37242d88430412dd6366619": {
          "model_module": "@jupyter-widgets/controls",
          "model_module_version": "1.5.0",
          "model_name": "FloatProgressModel",
          "state": {
            "_dom_classes": [],
            "_model_module": "@jupyter-widgets/controls",
            "_model_module_version": "1.5.0",
            "_model_name": "FloatProgressModel",
            "_view_count": null,
            "_view_module": "@jupyter-widgets/controls",
            "_view_module_version": "1.5.0",
            "_view_name": "ProgressView",
            "bar_style": "success",
            "description": "",
            "description_tooltip": null,
            "layout": "IPY_MODEL_e4eece86fca84195b4e66d41bd6c2242",
            "max": 5625,
            "min": 0,
            "orientation": "horizontal",
            "style": "IPY_MODEL_77c29a3b8dc543c1a107de0fab94cca2",
            "value": 5625
          }
        },
        "cb87df2e669941a9829347ca0d452843": {
          "model_module": "@jupyter-widgets/controls",
          "model_module_version": "1.5.0",
          "model_name": "DescriptionStyleModel",
          "state": {
            "_model_module": "@jupyter-widgets/controls",
            "_model_module_version": "1.5.0",
            "_model_name": "DescriptionStyleModel",
            "_view_count": null,
            "_view_module": "@jupyter-widgets/base",
            "_view_module_version": "1.2.0",
            "_view_name": "StyleView",
            "description_width": ""
          }
        },
        "e4eece86fca84195b4e66d41bd6c2242": {
          "model_module": "@jupyter-widgets/base",
          "model_module_version": "1.2.0",
          "model_name": "LayoutModel",
          "state": {
            "_model_module": "@jupyter-widgets/base",
            "_model_module_version": "1.2.0",
            "_model_name": "LayoutModel",
            "_view_count": null,
            "_view_module": "@jupyter-widgets/base",
            "_view_module_version": "1.2.0",
            "_view_name": "LayoutView",
            "align_content": null,
            "align_items": null,
            "align_self": null,
            "border": null,
            "bottom": null,
            "display": null,
            "flex": null,
            "flex_flow": null,
            "grid_area": null,
            "grid_auto_columns": null,
            "grid_auto_flow": null,
            "grid_auto_rows": null,
            "grid_column": null,
            "grid_gap": null,
            "grid_row": null,
            "grid_template_areas": null,
            "grid_template_columns": null,
            "grid_template_rows": null,
            "height": null,
            "justify_content": null,
            "justify_items": null,
            "left": null,
            "margin": null,
            "max_height": null,
            "max_width": null,
            "min_height": null,
            "min_width": null,
            "object_fit": null,
            "object_position": null,
            "order": null,
            "overflow": null,
            "overflow_x": null,
            "overflow_y": null,
            "padding": null,
            "right": null,
            "top": null,
            "visibility": null,
            "width": null
          }
        },
        "f3a5296eebbb42aa94885b00edb0ee22": {
          "model_module": "@jupyter-widgets/base",
          "model_module_version": "1.2.0",
          "model_name": "LayoutModel",
          "state": {
            "_model_module": "@jupyter-widgets/base",
            "_model_module_version": "1.2.0",
            "_model_name": "LayoutModel",
            "_view_count": null,
            "_view_module": "@jupyter-widgets/base",
            "_view_module_version": "1.2.0",
            "_view_name": "LayoutView",
            "align_content": null,
            "align_items": null,
            "align_self": null,
            "border": null,
            "bottom": null,
            "display": null,
            "flex": null,
            "flex_flow": null,
            "grid_area": null,
            "grid_auto_columns": null,
            "grid_auto_flow": null,
            "grid_auto_rows": null,
            "grid_column": null,
            "grid_gap": null,
            "grid_row": null,
            "grid_template_areas": null,
            "grid_template_columns": null,
            "grid_template_rows": null,
            "height": null,
            "justify_content": null,
            "justify_items": null,
            "left": null,
            "margin": null,
            "max_height": null,
            "max_width": null,
            "min_height": null,
            "min_width": null,
            "object_fit": null,
            "object_position": null,
            "order": null,
            "overflow": null,
            "overflow_x": null,
            "overflow_y": null,
            "padding": null,
            "right": null,
            "top": null,
            "visibility": null,
            "width": null
          }
        },
        "fc2ec5f60af2429a97f600723a430ce4": {
          "model_module": "@jupyter-widgets/controls",
          "model_module_version": "1.5.0",
          "model_name": "DescriptionStyleModel",
          "state": {
            "_model_module": "@jupyter-widgets/controls",
            "_model_module_version": "1.5.0",
            "_model_name": "DescriptionStyleModel",
            "_view_count": null,
            "_view_module": "@jupyter-widgets/base",
            "_view_module_version": "1.2.0",
            "_view_name": "StyleView",
            "description_width": ""
          }
        }
      }
    }
  },
  "nbformat": 4,
  "nbformat_minor": 0
}
